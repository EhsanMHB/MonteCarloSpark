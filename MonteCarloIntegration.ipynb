{
 "cells": [
  {
   "cell_type": "markdown",
   "metadata": {},
   "source": [
    "## Monte Carlo Process"
   ]
  },
  {
   "cell_type": "markdown",
   "metadata": {},
   "source": [
    "In this cell, the configurations are set for using Spark in python "
   ]
  },
  {
   "cell_type": "code",
   "execution_count": 63,
   "metadata": {
    "collapsed": false
   },
   "outputs": [],
   "source": [
    "import pyspark\n",
    "sc = pyspark.SparkContext(\"local[*]\", \"MonteCarloIntegration\")"
   ]
  },
  {
   "cell_type": "markdown",
   "metadata": {},
   "source": [
    "In this cell, the required modules are imported"
   ]
  },
  {
   "cell_type": "code",
   "execution_count": 64,
   "metadata": {
    "collapsed": true
   },
   "outputs": [],
   "source": [
    "from random import random\n",
    "from math import sin, cos\n",
    "from operator import add\n",
    "import scipy.integrate as integrate"
   ]
  },
  {
   "cell_type": "markdown",
   "metadata": {},
   "source": [
    "The function in this cell produces a random point in R^2 and checks if the point is under the f(x)"
   ]
  },
  {
   "cell_type": "code",
   "execution_count": 65,
   "metadata": {
    "collapsed": true
   },
   "outputs": [],
   "source": [
    "def IsUnderFun(xMin, xMax, yMin, yMax):\n",
    "    xRandom = xMin + (xMax-xMin) * random() \n",
    "    yRandom = yMin + (yMax - yMin) * random()\n",
    "    return 1 if yRandom < Fun(xRandom) else 0 "
   ]
  },
  {
   "cell_type": "markdown",
   "metadata": {},
   "source": [
    "In this cell, the integrated function, f(x), is defined"
   ]
  },
  {
   "cell_type": "code",
   "execution_count": 66,
   "metadata": {
    "collapsed": true
   },
   "outputs": [],
   "source": [
    "def Fun(x):\n",
    "    return (1 + sin(x))/cos(x)"
   ]
  },
  {
   "cell_type": "markdown",
   "metadata": {},
   "source": [
    "In this cell, the problem parameters are set up and the Spark program is executed "
   ]
  },
  {
   "cell_type": "code",
   "execution_count": 68,
   "metadata": {
    "collapsed": false
   },
   "outputs": [
    {
     "name": "stdout",
     "output_type": "stream",
     "text": [
      "Int[(1 + sin(x))/cos(x) dx, (0, 1)]  = 1.84181764 is computed using scipy\n",
      "Results using MC in Spark:\n",
      "Number of points:       1000, Result = 1.87200000\n",
      "Number of points:      10000, Result = 1.85600000\n",
      "Number of points:     100000, Result = 1.85648000\n",
      "Number of points:    1000000, Result = 1.84466400\n",
      "Number of points:   10000000, Result = 1.84188000\n"
     ]
    }
   ],
   "source": [
    "if __name__ == \"__main__\":\n",
    "\n",
    "    xMin = 0    # Minimum value for x\n",
    "    xMax = 1    # Maximum value for x\n",
    "    yMin = 0    # Minimum value for y\n",
    "    yMax = 4    # Maximum value for y\n",
    "    NumOfPoints = 1000  # number of points suggested in the Spark Assignment pdf\n",
    "    \n",
    "    result = integrate.quad(Fun, 0, 1)  # compute the integral using quadrature formulea\n",
    "    print \"Int[(1 + sin(x))/cos(x) dx, (%d, %d)]  = %2.8f is computed using scipy\" % (xMin, xMax, result[0])\n",
    "    print \"Results using MC in Spark:\"\n",
    "    \n",
    "    # compute the integral using Monte-Carlo (MC) with differet number of points starting from 1,000 up to 10,000,000\n",
    "    while NumOfPoints < 1e8:  \n",
    "        # do map and then reduce in order to obtain the number of points fallen under f(x)\n",
    "        count = sc.parallelize(xrange(1, NumOfPoints + 1)).map(lambda _: IsUnderFun(xMin, xMax, yMin, yMax)).reduce(add)\n",
    "        Integral = (xMax-xMin) * yMax * float(count)/float(NumOfPoints)   # compute the integral using MC integration \n",
    "        print \"Number of points: %10d, Result = %2.8f\" % (NumOfPoints, Integral) \n",
    "        NumOfPoints *= 10"
   ]
  },
  {
   "cell_type": "code",
   "execution_count": 62,
   "metadata": {
    "collapsed": true
   },
   "outputs": [],
   "source": [
    "sc.stop()"
   ]
  },
  {
   "cell_type": "markdown",
   "metadata": {},
   "source": [
    "### Additional comments: \n",
    "In order to have a better underestanding of the results, I have also computed the value of the integral using quadrature formulea and other number of points for MC process"
   ]
  },
  {
   "cell_type": "code",
   "execution_count": null,
   "metadata": {
    "collapsed": true
   },
   "outputs": [],
   "source": []
  }
 ],
 "metadata": {
  "kernelspec": {
   "display_name": "Python 2",
   "language": "python",
   "name": "python2"
  },
  "language_info": {
   "codemirror_mode": {
    "name": "ipython",
    "version": 2
   },
   "file_extension": ".py",
   "mimetype": "text/x-python",
   "name": "python",
   "nbconvert_exporter": "python",
   "pygments_lexer": "ipython2",
   "version": "2.7.12"
  }
 },
 "nbformat": 4,
 "nbformat_minor": 2
}
